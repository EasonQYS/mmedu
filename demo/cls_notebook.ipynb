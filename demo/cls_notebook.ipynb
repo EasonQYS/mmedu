{
 "cells": [
  {
   "cell_type": "code",
   "execution_count": 3,
   "metadata": {},
   "outputs": [
    {
     "ename": "ModuleNotFoundError",
     "evalue": "No module named 'Segmentation'",
     "output_type": "error",
     "traceback": [
      "\u001b[0;31m---------------------------------------------------------------------------\u001b[0m",
      "\u001b[0;31mModuleNotFoundError\u001b[0m                       Traceback (most recent call last)",
      "Input \u001b[0;32mIn [3]\u001b[0m, in \u001b[0;36m<cell line: 2>\u001b[0;34m()\u001b[0m\n\u001b[1;32m      1\u001b[0m \u001b[38;5;28;01mfrom\u001b[39;00m \u001b[38;5;21;01mbase\u001b[39;00m \u001b[38;5;28;01mimport\u001b[39;00m \u001b[38;5;241m*\u001b[39m\n\u001b[0;32m----> 2\u001b[0m \u001b[38;5;28;01mfrom\u001b[39;00m \u001b[38;5;21;01mMMEdu\u001b[39;00m \u001b[38;5;28;01mimport\u001b[39;00m MMClassification\n\u001b[1;32m      5\u001b[0m \u001b[38;5;28;01mdef\u001b[39;00m \u001b[38;5;21monly_infer_demo\u001b[39m():\n\u001b[1;32m      6\u001b[0m \timg \u001b[38;5;241m=\u001b[39m \u001b[38;5;124m'\u001b[39m\u001b[38;5;124mdog.jpg\u001b[39m\u001b[38;5;124m'\u001b[39m\n",
      "File \u001b[0;32m~/OpenMMLab-Edu/MMEdu/__init__.py:3\u001b[0m, in \u001b[0;36m<module>\u001b[0;34m\u001b[0m\n\u001b[1;32m      1\u001b[0m \u001b[38;5;28;01mfrom\u001b[39;00m \u001b[38;5;21;01m.\u001b[39;00m\u001b[38;5;21;01mClassification\u001b[39;00m \u001b[38;5;28;01mimport\u001b[39;00m MMClassification\n\u001b[1;32m      2\u001b[0m \u001b[38;5;28;01mfrom\u001b[39;00m \u001b[38;5;21;01m.\u001b[39;00m\u001b[38;5;21;01mDetection\u001b[39;00m \u001b[38;5;28;01mimport\u001b[39;00m MMDetection\n\u001b[0;32m----> 3\u001b[0m \u001b[38;5;28;01mfrom\u001b[39;00m \u001b[38;5;21;01mSegmentation\u001b[39;00m\u001b[38;5;21;01m.\u001b[39;00m\u001b[38;5;21;01mSegmentation_Edu\u001b[39;00m \u001b[38;5;28;01mimport\u001b[39;00m MMSegmentation\n\u001b[1;32m      4\u001b[0m \u001b[38;5;28;01mfrom\u001b[39;00m \u001b[38;5;21;01m.\u001b[39;00m\u001b[38;5;21;01mGeneration_Edu\u001b[39;00m \u001b[38;5;28;01mimport\u001b[39;00m MMGeneration\n\u001b[1;32m      5\u001b[0m \u001b[38;5;28;01mfrom\u001b[39;00m \u001b[38;5;21;01m.\u001b[39;00m\u001b[38;5;21;01mPose_Edu\u001b[39;00m \u001b[38;5;28;01mimport\u001b[39;00m MMPose\n",
      "\u001b[0;31mModuleNotFoundError\u001b[0m: No module named 'Segmentation'"
     ]
    }
   ],
   "source": [
    "from base import *\n",
    "from MMEdu import MMClassification\n",
    "\n",
    "\n",
    "def only_infer_demo():\n",
    "\timg = 'dog.jpg'\n",
    "\tmodel = MMClassification(backbone='MobileNet')\n",
    "\tmodel.checkpoint = '../checkpoints/cls_model/cats_dogs/latest.pth'\n",
    "\tresult = model.inference(image=img, show=True)\n",
    "\tprint(result)\n",
    "\n",
    "\n",
    "def continue_train_demo():\n",
    "\tmodel = MMClassification(backbone='MobileNet')\n",
    "\tmodel.num_classes = 2\n",
    "\tmodel.save_fold = '../checkpoints/cls_model/cats_dogs'\n",
    "\tmodel.load_dataset(path='../dataset/cls/cats_dogs_dataset')\n",
    "\tmodel.train(epochs=1, validate=True, checkpoint='../checkpoints/cls_model/cats_dogs/latest.pth')\n",
    "\n",
    "\n",
    "def normal_train_demo():\n",
    "\tmodel = MMClassification(backbone='MobileNet')\n",
    "\tmodel.num_classes = 2\n",
    "\tmodel.save_fold = '../checkpoints/cls_model/cats_dogs'\n",
    "\tmodel.load_dataset(path='../dataset/cls/cats_dogs_dataset')\n",
    "\tmodel.train(epochs=100, validate=True)\n",
    "\n",
    "\n",
    "if __name__ == \"__main__\":\n",
    "\tonly_infer_demo()\n",
    "\t# continue_train_demo()\n",
    "\t# normal_train_demo()"
   ]
  },
  {
   "cell_type": "code",
   "execution_count": null,
   "metadata": {},
   "outputs": [],
   "source": []
  }
 ],
 "metadata": {
  "kernelspec": {
   "display_name": "Python 3 (ipykernel)",
   "language": "python",
   "name": "python3"
  },
  "language_info": {
   "codemirror_mode": {
    "name": "ipython",
    "version": 3
   },
   "file_extension": ".py",
   "mimetype": "text/x-python",
   "name": "python",
   "nbconvert_exporter": "python",
   "pygments_lexer": "ipython3",
   "version": "3.9.7"
  }
 },
 "nbformat": 4,
 "nbformat_minor": 2
}
